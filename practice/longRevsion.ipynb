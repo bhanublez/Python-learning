{
 "cells": [
  {
   "cell_type": "code",
   "execution_count": 1,
   "metadata": {},
   "outputs": [
    {
     "name": "stdout",
     "output_type": "stream",
     "text": [
      "[]\n"
     ]
    }
   ],
   "source": [
    "list=[]\n",
    "print(list)"
   ]
  },
  {
   "cell_type": "code",
   "execution_count": 3,
   "metadata": {},
   "outputs": [
    {
     "name": "stdout",
     "output_type": "stream",
     "text": [
      "['rav', 'fitu', 653, 346, 66, 665, 77, 88, 99]\n"
     ]
    }
   ],
   "source": [
    "list=[\"rav\",'fitu',653,346,66,665,77,88,99]\n",
    "print(list)"
   ]
  },
  {
   "cell_type": "code",
   "execution_count": 19,
   "metadata": {},
   "outputs": [
    {
     "name": "stdout",
     "output_type": "stream",
     "text": [
      "rav\n",
      "['rav', 'fitu']\n",
      "[99]\n"
     ]
    }
   ],
   "source": [
    "print(list[0])\n",
    "print(list[0:2])\n",
    "print(list[-1:10])"
   ]
  },
  {
   "cell_type": "markdown",
   "metadata": {},
   "source": [
    "# List Comprehension"
   ]
  },
  {
   "cell_type": "code",
   "execution_count": 1,
   "metadata": {},
   "outputs": [
    {
     "name": "stdout",
     "output_type": "stream",
     "text": [
      "[1, 4, 9, 16, 25, 36, 49, 64, 81]\n"
     ]
    }
   ],
   "source": [
    "squares=[]\n",
    "for i in range(1,10):\n",
    "    squares.append(i**2)\n",
    "print(squares)"
   ]
  },
  {
   "cell_type": "code",
   "execution_count": 3,
   "metadata": {},
   "outputs": [
    {
     "name": "stdout",
     "output_type": "stream",
     "text": [
      "[1, 4, 9, 16, 25, 36, 49, 64, 81]\n"
     ]
    }
   ],
   "source": [
    "squares=[i**2 for i in range(1,10)]\n",
    "print(squares)"
   ]
  },
  {
   "cell_type": "code",
   "execution_count": 4,
   "metadata": {},
   "outputs": [
    {
     "name": "stdout",
     "output_type": "stream",
     "text": [
      "['Time', 'passes', 'like', 'a', 'light.', 'Just', 'a', 'blink', 'of', 'eye.', 'Can', 'we', 'match', 'or', 'catch', 'it.', 'Lets', 'try', 'one', 'more', 'time.']\n"
     ]
    }
   ],
   "source": [
    "song=[\"Time passes like a light.\",\"Just a blink of eye.\",\"Can we match or catch it.\",\"Lets try one more time.\"]\n",
    "mylist=[]\n",
    "for i in song:\n",
    "    for j in i.split():\n",
    "        mylist.append(j)\n",
    "print(mylist)"
   ]
  },
  {
   "cell_type": "code",
   "execution_count": 6,
   "metadata": {},
   "outputs": [
    {
     "name": "stdout",
     "output_type": "stream",
     "text": [
      "['Time', 'passes', 'like', 'a', 'light.', 'Just', 'a', 'blink', 'of', 'eye.', 'Can', 'we', 'match', 'or', 'catch', 'it.', 'Lets', 'try', 'one', 'more', 'time.']\n"
     ]
    }
   ],
   "source": [
    "mylist=[ j for i in song for j in i.split()]\n",
    "print(mylist)"
   ]
  },
  {
   "cell_type": "code",
   "execution_count": 13,
   "metadata": {},
   "outputs": [
    {
     "name": "stdout",
     "output_type": "stream",
     "text": [
      "['a', 'a', 'of', 'eye.', 'or', 'it.', 'one']\n"
     ]
    }
   ],
   "source": [
    "#Vowels start word in paragraph\n",
    "vowels=['a','e','i','o','u']\n",
    "mylist=[]\n",
    "for i in song:\n",
    "    for j in i.split():\n",
    "        if j[0].lower() in vowels:\n",
    "            mylist.append(j)\n",
    "        \n",
    "print(mylist)\n"
   ]
  },
  {
   "cell_type": "code",
   "execution_count": 11,
   "metadata": {},
   "outputs": [
    {
     "name": "stdout",
     "output_type": "stream",
     "text": [
      "['a', 'a', 'of', 'eye.', 'or', 'it.', 'one']\n"
     ]
    }
   ],
   "source": [
    "mylist=[j for i in song for j in i.split() if j[0].lower() in vowels]\n",
    "print(mylist)"
   ]
  },
  {
   "cell_type": "code",
   "execution_count": 15,
   "metadata": {},
   "outputs": [
    {
     "name": "stdout",
     "output_type": "stream",
     "text": [
      "{1: 1, 2: 4, 3: 9, 4: 16, 5: 25, 6: 36, 7: 49, 8: 64, 9: 81, 10: 100, 11: 121, 12: 144, 13: 169, 14: 196, 15: 225, 16: 256, 17: 289, 18: 324, 19: 361}\n"
     ]
    }
   ],
   "source": [
    "mydict={ i:i**2 for i in range(1,20)}\n",
    "print(mydict)"
   ]
  },
  {
   "cell_type": "code",
   "execution_count": 16,
   "metadata": {},
   "outputs": [
    {
     "name": "stdout",
     "output_type": "stream",
     "text": [
      "{102: 'r'}\n"
     ]
    }
   ],
   "source": [
    "mydict={}\n",
    "stduent={101:\"bhanu\",102:\"riya\",103:\"Jiya\"}\n",
    "for key,value in stduent.items():\n",
    "    if key%2==0:\n",
    "        mydict[key]=value[0]\n",
    "print(mydict)"
   ]
  },
  {
   "cell_type": "code",
   "execution_count": 17,
   "metadata": {},
   "outputs": [
    {
     "name": "stdout",
     "output_type": "stream",
     "text": [
      "{102: 'r'}\n"
     ]
    }
   ],
   "source": [
    "mydict={key:value[0] for key,value in stduent.items() if key%2==0}\n",
    "print(mydict)"
   ]
  }
 ],
 "metadata": {
  "kernelspec": {
   "display_name": "Python 3",
   "language": "python",
   "name": "python3"
  },
  "language_info": {
   "codemirror_mode": {
    "name": "ipython",
    "version": 3
   },
   "file_extension": ".py",
   "mimetype": "text/x-python",
   "name": "python",
   "nbconvert_exporter": "python",
   "pygments_lexer": "ipython3",
   "version": "3.11.5"
  }
 },
 "nbformat": 4,
 "nbformat_minor": 2
}
